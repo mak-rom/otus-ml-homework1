{
 "cells": [
  {
   "cell_type": "code",
   "execution_count": 238,
   "metadata": {},
   "outputs": [],
   "source": [
    "import pandas as pd\n",
    "import numpy as np\n",
    "import matplotlib.pyplot as plt\n",
    "import seaborn as sb\n",
    "from scipy import stats\n",
    "%matplotlib inline"
   ]
  },
  {
   "cell_type": "code",
   "execution_count": 239,
   "metadata": {},
   "outputs": [
    {
     "data": {
      "text/html": [
       "<div>\n",
       "<style scoped>\n",
       "    .dataframe tbody tr th:only-of-type {\n",
       "        vertical-align: middle;\n",
       "    }\n",
       "\n",
       "    .dataframe tbody tr th {\n",
       "        vertical-align: top;\n",
       "    }\n",
       "\n",
       "    .dataframe thead th {\n",
       "        text-align: right;\n",
       "    }\n",
       "</style>\n",
       "<table border=\"1\" class=\"dataframe\">\n",
       "  <thead>\n",
       "    <tr style=\"text-align: right;\">\n",
       "      <th></th>\n",
       "      <th>Sample code number</th>\n",
       "      <th>Clump Thickness</th>\n",
       "      <th>Uniformity of Cell Size</th>\n",
       "      <th>Uniformity of Cell Shape</th>\n",
       "      <th>Marginal Adhesion</th>\n",
       "      <th>Single Epithelial Cell Size</th>\n",
       "      <th>Bare Nuclei</th>\n",
       "      <th>Bland Chromatin</th>\n",
       "      <th>Normal Nucleoli</th>\n",
       "      <th>Mitoses</th>\n",
       "      <th>Class</th>\n",
       "    </tr>\n",
       "  </thead>\n",
       "  <tbody>\n",
       "    <tr>\n",
       "      <th>0</th>\n",
       "      <td>1000025</td>\n",
       "      <td>5</td>\n",
       "      <td>1</td>\n",
       "      <td>1</td>\n",
       "      <td>1</td>\n",
       "      <td>2</td>\n",
       "      <td>1</td>\n",
       "      <td>3</td>\n",
       "      <td>1</td>\n",
       "      <td>1</td>\n",
       "      <td>2</td>\n",
       "    </tr>\n",
       "    <tr>\n",
       "      <th>1</th>\n",
       "      <td>1002945</td>\n",
       "      <td>5</td>\n",
       "      <td>4</td>\n",
       "      <td>4</td>\n",
       "      <td>5</td>\n",
       "      <td>7</td>\n",
       "      <td>10</td>\n",
       "      <td>3</td>\n",
       "      <td>2</td>\n",
       "      <td>1</td>\n",
       "      <td>2</td>\n",
       "    </tr>\n",
       "    <tr>\n",
       "      <th>2</th>\n",
       "      <td>1015425</td>\n",
       "      <td>3</td>\n",
       "      <td>1</td>\n",
       "      <td>1</td>\n",
       "      <td>1</td>\n",
       "      <td>2</td>\n",
       "      <td>2</td>\n",
       "      <td>3</td>\n",
       "      <td>1</td>\n",
       "      <td>1</td>\n",
       "      <td>2</td>\n",
       "    </tr>\n",
       "    <tr>\n",
       "      <th>3</th>\n",
       "      <td>1016277</td>\n",
       "      <td>6</td>\n",
       "      <td>8</td>\n",
       "      <td>8</td>\n",
       "      <td>1</td>\n",
       "      <td>3</td>\n",
       "      <td>4</td>\n",
       "      <td>3</td>\n",
       "      <td>7</td>\n",
       "      <td>1</td>\n",
       "      <td>2</td>\n",
       "    </tr>\n",
       "    <tr>\n",
       "      <th>4</th>\n",
       "      <td>1017023</td>\n",
       "      <td>4</td>\n",
       "      <td>1</td>\n",
       "      <td>1</td>\n",
       "      <td>3</td>\n",
       "      <td>2</td>\n",
       "      <td>1</td>\n",
       "      <td>3</td>\n",
       "      <td>1</td>\n",
       "      <td>1</td>\n",
       "      <td>2</td>\n",
       "    </tr>\n",
       "  </tbody>\n",
       "</table>\n",
       "</div>"
      ],
      "text/plain": [
       "   Sample code number  Clump Thickness  Uniformity of Cell Size  \\\n",
       "0             1000025                5                        1   \n",
       "1             1002945                5                        4   \n",
       "2             1015425                3                        1   \n",
       "3             1016277                6                        8   \n",
       "4             1017023                4                        1   \n",
       "\n",
       "   Uniformity of Cell Shape  Marginal Adhesion  Single Epithelial Cell Size  \\\n",
       "0                         1                  1                            2   \n",
       "1                         4                  5                            7   \n",
       "2                         1                  1                            2   \n",
       "3                         8                  1                            3   \n",
       "4                         1                  3                            2   \n",
       "\n",
       "  Bare Nuclei  Bland Chromatin  Normal Nucleoli  Mitoses  Class  \n",
       "0           1                3                1        1      2  \n",
       "1          10                3                2        1      2  \n",
       "2           2                3                1        1      2  \n",
       "3           4                3                7        1      2  \n",
       "4           1                3                1        1      2  "
      ]
     },
     "execution_count": 239,
     "metadata": {},
     "output_type": "execute_result"
    }
   ],
   "source": [
    "title = ['Sample code number', 'Clump Thickness', 'Uniformity of Cell Size', 'Uniformity of Cell Shape',\n",
    "         'Marginal Adhesion', 'Single Epithelial Cell Size', 'Bare Nuclei', 'Bland Chromatin',\n",
    "         'Normal Nucleoli', 'Mitoses', 'Class']\n",
    "df = pd.read_csv('breast-cancer-wisconsin.data', names = title)\n",
    "df.head()"
   ]
  },
  {
   "cell_type": "code",
   "execution_count": 240,
   "metadata": {},
   "outputs": [
    {
     "name": "stdout",
     "output_type": "stream",
     "text": [
      "<class 'pandas.core.frame.DataFrame'>\n",
      "RangeIndex: 699 entries, 0 to 698\n",
      "Data columns (total 11 columns):\n",
      "Sample code number             699 non-null int64\n",
      "Clump Thickness                699 non-null int64\n",
      "Uniformity of Cell Size        699 non-null int64\n",
      "Uniformity of Cell Shape       699 non-null int64\n",
      "Marginal Adhesion              699 non-null int64\n",
      "Single Epithelial Cell Size    699 non-null int64\n",
      "Bare Nuclei                    699 non-null object\n",
      "Bland Chromatin                699 non-null int64\n",
      "Normal Nucleoli                699 non-null int64\n",
      "Mitoses                        699 non-null int64\n",
      "Class                          699 non-null int64\n",
      "dtypes: int64(10), object(1)\n",
      "memory usage: 57.4+ KB\n"
     ]
    }
   ],
   "source": [
    "df.info()"
   ]
  },
  {
   "cell_type": "markdown",
   "metadata": {},
   "source": [
    "As we can see there are no missing data within the data set since all columns have 699 values exactly, however based on the indicated data type of the column \"Bare Nuclei\" that mostly contains integer numbers we can conclude that some rows of the data set should contain values that are not numeric. For further analysis we have to clear our data by deleting the unproper rows and also turning the \"Bare Nuclei\" column values to the \"int64\" type."
   ]
  },
  {
   "cell_type": "code",
   "execution_count": 241,
   "metadata": {
    "scrolled": true
   },
   "outputs": [
    {
     "data": {
      "text/html": [
       "<div>\n",
       "<style scoped>\n",
       "    .dataframe tbody tr th:only-of-type {\n",
       "        vertical-align: middle;\n",
       "    }\n",
       "\n",
       "    .dataframe tbody tr th {\n",
       "        vertical-align: top;\n",
       "    }\n",
       "\n",
       "    .dataframe thead th {\n",
       "        text-align: right;\n",
       "    }\n",
       "</style>\n",
       "<table border=\"1\" class=\"dataframe\">\n",
       "  <thead>\n",
       "    <tr style=\"text-align: right;\">\n",
       "      <th></th>\n",
       "      <th>Sample code number</th>\n",
       "      <th>Clump Thickness</th>\n",
       "      <th>Uniformity of Cell Size</th>\n",
       "      <th>Uniformity of Cell Shape</th>\n",
       "      <th>Marginal Adhesion</th>\n",
       "      <th>Single Epithelial Cell Size</th>\n",
       "      <th>Bare Nuclei</th>\n",
       "      <th>Bland Chromatin</th>\n",
       "      <th>Normal Nucleoli</th>\n",
       "      <th>Mitoses</th>\n",
       "      <th>Class</th>\n",
       "    </tr>\n",
       "  </thead>\n",
       "  <tbody>\n",
       "    <tr>\n",
       "      <th>0</th>\n",
       "      <td>1000025</td>\n",
       "      <td>5</td>\n",
       "      <td>1</td>\n",
       "      <td>1</td>\n",
       "      <td>1</td>\n",
       "      <td>2</td>\n",
       "      <td>1</td>\n",
       "      <td>3</td>\n",
       "      <td>1</td>\n",
       "      <td>1</td>\n",
       "      <td>2</td>\n",
       "    </tr>\n",
       "    <tr>\n",
       "      <th>1</th>\n",
       "      <td>1002945</td>\n",
       "      <td>5</td>\n",
       "      <td>4</td>\n",
       "      <td>4</td>\n",
       "      <td>5</td>\n",
       "      <td>7</td>\n",
       "      <td>10</td>\n",
       "      <td>3</td>\n",
       "      <td>2</td>\n",
       "      <td>1</td>\n",
       "      <td>2</td>\n",
       "    </tr>\n",
       "    <tr>\n",
       "      <th>2</th>\n",
       "      <td>1015425</td>\n",
       "      <td>3</td>\n",
       "      <td>1</td>\n",
       "      <td>1</td>\n",
       "      <td>1</td>\n",
       "      <td>2</td>\n",
       "      <td>2</td>\n",
       "      <td>3</td>\n",
       "      <td>1</td>\n",
       "      <td>1</td>\n",
       "      <td>2</td>\n",
       "    </tr>\n",
       "    <tr>\n",
       "      <th>3</th>\n",
       "      <td>1016277</td>\n",
       "      <td>6</td>\n",
       "      <td>8</td>\n",
       "      <td>8</td>\n",
       "      <td>1</td>\n",
       "      <td>3</td>\n",
       "      <td>4</td>\n",
       "      <td>3</td>\n",
       "      <td>7</td>\n",
       "      <td>1</td>\n",
       "      <td>2</td>\n",
       "    </tr>\n",
       "    <tr>\n",
       "      <th>4</th>\n",
       "      <td>1017023</td>\n",
       "      <td>4</td>\n",
       "      <td>1</td>\n",
       "      <td>1</td>\n",
       "      <td>3</td>\n",
       "      <td>2</td>\n",
       "      <td>1</td>\n",
       "      <td>3</td>\n",
       "      <td>1</td>\n",
       "      <td>1</td>\n",
       "      <td>2</td>\n",
       "    </tr>\n",
       "  </tbody>\n",
       "</table>\n",
       "</div>"
      ],
      "text/plain": [
       "   Sample code number  Clump Thickness  Uniformity of Cell Size  \\\n",
       "0             1000025                5                        1   \n",
       "1             1002945                5                        4   \n",
       "2             1015425                3                        1   \n",
       "3             1016277                6                        8   \n",
       "4             1017023                4                        1   \n",
       "\n",
       "   Uniformity of Cell Shape  Marginal Adhesion  Single Epithelial Cell Size  \\\n",
       "0                         1                  1                            2   \n",
       "1                         4                  5                            7   \n",
       "2                         1                  1                            2   \n",
       "3                         8                  1                            3   \n",
       "4                         1                  3                            2   \n",
       "\n",
       "   Bare Nuclei  Bland Chromatin  Normal Nucleoli  Mitoses  Class  \n",
       "0            1                3                1        1      2  \n",
       "1           10                3                2        1      2  \n",
       "2            2                3                1        1      2  \n",
       "3            4                3                7        1      2  \n",
       "4            1                3                1        1      2  "
      ]
     },
     "execution_count": 241,
     "metadata": {},
     "output_type": "execute_result"
    }
   ],
   "source": [
    "df = df[df['Bare Nuclei'] != '?']\n",
    "df['Bare Nuclei'] = df['Bare Nuclei'].astype('int64')\n",
    "df.head()"
   ]
  },
  {
   "cell_type": "code",
   "execution_count": 242,
   "metadata": {},
   "outputs": [
    {
     "name": "stdout",
     "output_type": "stream",
     "text": [
      "<class 'pandas.core.frame.DataFrame'>\n",
      "Int64Index: 683 entries, 0 to 698\n",
      "Data columns (total 11 columns):\n",
      "Sample code number             683 non-null int64\n",
      "Clump Thickness                683 non-null int64\n",
      "Uniformity of Cell Size        683 non-null int64\n",
      "Uniformity of Cell Shape       683 non-null int64\n",
      "Marginal Adhesion              683 non-null int64\n",
      "Single Epithelial Cell Size    683 non-null int64\n",
      "Bare Nuclei                    683 non-null int64\n",
      "Bland Chromatin                683 non-null int64\n",
      "Normal Nucleoli                683 non-null int64\n",
      "Mitoses                        683 non-null int64\n",
      "Class                          683 non-null int64\n",
      "dtypes: int64(11)\n",
      "memory usage: 64.0 KB\n"
     ]
    }
   ],
   "source": [
    "df.info()"
   ]
  },
  {
   "cell_type": "markdown",
   "metadata": {},
   "source": [
    "The column \"Sample code number\" is the ids column and can't give us any interesting information. Therefore, we delete this column from the data set for further analysis."
   ]
  },
  {
   "cell_type": "code",
   "execution_count": 243,
   "metadata": {},
   "outputs": [],
   "source": [
    "df = df.drop('Sample code number', axis = 1)"
   ]
  },
  {
   "cell_type": "code",
   "execution_count": 244,
   "metadata": {},
   "outputs": [
    {
     "data": {
      "text/html": [
       "<div>\n",
       "<style scoped>\n",
       "    .dataframe tbody tr th:only-of-type {\n",
       "        vertical-align: middle;\n",
       "    }\n",
       "\n",
       "    .dataframe tbody tr th {\n",
       "        vertical-align: top;\n",
       "    }\n",
       "\n",
       "    .dataframe thead th {\n",
       "        text-align: right;\n",
       "    }\n",
       "</style>\n",
       "<table border=\"1\" class=\"dataframe\">\n",
       "  <thead>\n",
       "    <tr style=\"text-align: right;\">\n",
       "      <th></th>\n",
       "      <th>Clump Thickness</th>\n",
       "      <th>Uniformity of Cell Size</th>\n",
       "      <th>Uniformity of Cell Shape</th>\n",
       "      <th>Marginal Adhesion</th>\n",
       "      <th>Single Epithelial Cell Size</th>\n",
       "      <th>Bare Nuclei</th>\n",
       "      <th>Bland Chromatin</th>\n",
       "      <th>Normal Nucleoli</th>\n",
       "      <th>Mitoses</th>\n",
       "      <th>Class</th>\n",
       "    </tr>\n",
       "  </thead>\n",
       "  <tbody>\n",
       "    <tr>\n",
       "      <th>count</th>\n",
       "      <td>683.000000</td>\n",
       "      <td>683.000000</td>\n",
       "      <td>683.000000</td>\n",
       "      <td>683.000000</td>\n",
       "      <td>683.000000</td>\n",
       "      <td>683.000000</td>\n",
       "      <td>683.000000</td>\n",
       "      <td>683.000000</td>\n",
       "      <td>683.000000</td>\n",
       "      <td>683.000000</td>\n",
       "    </tr>\n",
       "    <tr>\n",
       "      <th>mean</th>\n",
       "      <td>4.442167</td>\n",
       "      <td>3.150805</td>\n",
       "      <td>3.215227</td>\n",
       "      <td>2.830161</td>\n",
       "      <td>3.234261</td>\n",
       "      <td>3.544656</td>\n",
       "      <td>3.445095</td>\n",
       "      <td>2.869693</td>\n",
       "      <td>1.603221</td>\n",
       "      <td>2.699854</td>\n",
       "    </tr>\n",
       "    <tr>\n",
       "      <th>std</th>\n",
       "      <td>2.820761</td>\n",
       "      <td>3.065145</td>\n",
       "      <td>2.988581</td>\n",
       "      <td>2.864562</td>\n",
       "      <td>2.223085</td>\n",
       "      <td>3.643857</td>\n",
       "      <td>2.449697</td>\n",
       "      <td>3.052666</td>\n",
       "      <td>1.732674</td>\n",
       "      <td>0.954592</td>\n",
       "    </tr>\n",
       "    <tr>\n",
       "      <th>min</th>\n",
       "      <td>1.000000</td>\n",
       "      <td>1.000000</td>\n",
       "      <td>1.000000</td>\n",
       "      <td>1.000000</td>\n",
       "      <td>1.000000</td>\n",
       "      <td>1.000000</td>\n",
       "      <td>1.000000</td>\n",
       "      <td>1.000000</td>\n",
       "      <td>1.000000</td>\n",
       "      <td>2.000000</td>\n",
       "    </tr>\n",
       "    <tr>\n",
       "      <th>25%</th>\n",
       "      <td>2.000000</td>\n",
       "      <td>1.000000</td>\n",
       "      <td>1.000000</td>\n",
       "      <td>1.000000</td>\n",
       "      <td>2.000000</td>\n",
       "      <td>1.000000</td>\n",
       "      <td>2.000000</td>\n",
       "      <td>1.000000</td>\n",
       "      <td>1.000000</td>\n",
       "      <td>2.000000</td>\n",
       "    </tr>\n",
       "    <tr>\n",
       "      <th>50%</th>\n",
       "      <td>4.000000</td>\n",
       "      <td>1.000000</td>\n",
       "      <td>1.000000</td>\n",
       "      <td>1.000000</td>\n",
       "      <td>2.000000</td>\n",
       "      <td>1.000000</td>\n",
       "      <td>3.000000</td>\n",
       "      <td>1.000000</td>\n",
       "      <td>1.000000</td>\n",
       "      <td>2.000000</td>\n",
       "    </tr>\n",
       "    <tr>\n",
       "      <th>75%</th>\n",
       "      <td>6.000000</td>\n",
       "      <td>5.000000</td>\n",
       "      <td>5.000000</td>\n",
       "      <td>4.000000</td>\n",
       "      <td>4.000000</td>\n",
       "      <td>6.000000</td>\n",
       "      <td>5.000000</td>\n",
       "      <td>4.000000</td>\n",
       "      <td>1.000000</td>\n",
       "      <td>4.000000</td>\n",
       "    </tr>\n",
       "    <tr>\n",
       "      <th>max</th>\n",
       "      <td>10.000000</td>\n",
       "      <td>10.000000</td>\n",
       "      <td>10.000000</td>\n",
       "      <td>10.000000</td>\n",
       "      <td>10.000000</td>\n",
       "      <td>10.000000</td>\n",
       "      <td>10.000000</td>\n",
       "      <td>10.000000</td>\n",
       "      <td>10.000000</td>\n",
       "      <td>4.000000</td>\n",
       "    </tr>\n",
       "  </tbody>\n",
       "</table>\n",
       "</div>"
      ],
      "text/plain": [
       "       Clump Thickness  Uniformity of Cell Size  Uniformity of Cell Shape  \\\n",
       "count       683.000000               683.000000                683.000000   \n",
       "mean          4.442167                 3.150805                  3.215227   \n",
       "std           2.820761                 3.065145                  2.988581   \n",
       "min           1.000000                 1.000000                  1.000000   \n",
       "25%           2.000000                 1.000000                  1.000000   \n",
       "50%           4.000000                 1.000000                  1.000000   \n",
       "75%           6.000000                 5.000000                  5.000000   \n",
       "max          10.000000                10.000000                 10.000000   \n",
       "\n",
       "       Marginal Adhesion  Single Epithelial Cell Size  Bare Nuclei  \\\n",
       "count         683.000000                   683.000000   683.000000   \n",
       "mean            2.830161                     3.234261     3.544656   \n",
       "std             2.864562                     2.223085     3.643857   \n",
       "min             1.000000                     1.000000     1.000000   \n",
       "25%             1.000000                     2.000000     1.000000   \n",
       "50%             1.000000                     2.000000     1.000000   \n",
       "75%             4.000000                     4.000000     6.000000   \n",
       "max            10.000000                    10.000000    10.000000   \n",
       "\n",
       "       Bland Chromatin  Normal Nucleoli     Mitoses       Class  \n",
       "count       683.000000       683.000000  683.000000  683.000000  \n",
       "mean          3.445095         2.869693    1.603221    2.699854  \n",
       "std           2.449697         3.052666    1.732674    0.954592  \n",
       "min           1.000000         1.000000    1.000000    2.000000  \n",
       "25%           2.000000         1.000000    1.000000    2.000000  \n",
       "50%           3.000000         1.000000    1.000000    2.000000  \n",
       "75%           5.000000         4.000000    1.000000    4.000000  \n",
       "max          10.000000        10.000000   10.000000    4.000000  "
      ]
     },
     "execution_count": 244,
     "metadata": {},
     "output_type": "execute_result"
    }
   ],
   "source": [
    "df.describe()"
   ]
  },
  {
   "cell_type": "markdown",
   "metadata": {},
   "source": [
    "Since the values within the data set are the range values we should use Spearman or Kendall coefficient for our correlation analysis."
   ]
  },
  {
   "cell_type": "code",
   "execution_count": 245,
   "metadata": {},
   "outputs": [
    {
     "data": {
      "text/html": [
       "<div>\n",
       "<style scoped>\n",
       "    .dataframe tbody tr th:only-of-type {\n",
       "        vertical-align: middle;\n",
       "    }\n",
       "\n",
       "    .dataframe tbody tr th {\n",
       "        vertical-align: top;\n",
       "    }\n",
       "\n",
       "    .dataframe thead th {\n",
       "        text-align: right;\n",
       "    }\n",
       "</style>\n",
       "<table border=\"1\" class=\"dataframe\">\n",
       "  <thead>\n",
       "    <tr style=\"text-align: right;\">\n",
       "      <th></th>\n",
       "      <th>Clump Thickness</th>\n",
       "      <th>Uniformity of Cell Size</th>\n",
       "      <th>Uniformity of Cell Shape</th>\n",
       "      <th>Marginal Adhesion</th>\n",
       "      <th>Single Epithelial Cell Size</th>\n",
       "      <th>Bare Nuclei</th>\n",
       "      <th>Bland Chromatin</th>\n",
       "      <th>Normal Nucleoli</th>\n",
       "      <th>Mitoses</th>\n",
       "      <th>Class</th>\n",
       "    </tr>\n",
       "  </thead>\n",
       "  <tbody>\n",
       "    <tr>\n",
       "      <th>Clump Thickness</th>\n",
       "      <td>1.000000</td>\n",
       "      <td>0.663684</td>\n",
       "      <td>0.666652</td>\n",
       "      <td>0.543815</td>\n",
       "      <td>0.586755</td>\n",
       "      <td>0.590770</td>\n",
       "      <td>0.533848</td>\n",
       "      <td>0.566398</td>\n",
       "      <td>0.421208</td>\n",
       "      <td>0.683080</td>\n",
       "    </tr>\n",
       "    <tr>\n",
       "      <th>Uniformity of Cell Size</th>\n",
       "      <td>0.663684</td>\n",
       "      <td>1.000000</td>\n",
       "      <td>0.894978</td>\n",
       "      <td>0.745475</td>\n",
       "      <td>0.792814</td>\n",
       "      <td>0.769543</td>\n",
       "      <td>0.720595</td>\n",
       "      <td>0.752510</td>\n",
       "      <td>0.512688</td>\n",
       "      <td>0.860299</td>\n",
       "    </tr>\n",
       "    <tr>\n",
       "      <th>Uniformity of Cell Shape</th>\n",
       "      <td>0.666652</td>\n",
       "      <td>0.894978</td>\n",
       "      <td>1.000000</td>\n",
       "      <td>0.718722</td>\n",
       "      <td>0.765073</td>\n",
       "      <td>0.752950</td>\n",
       "      <td>0.694888</td>\n",
       "      <td>0.724410</td>\n",
       "      <td>0.478400</td>\n",
       "      <td>0.843245</td>\n",
       "    </tr>\n",
       "    <tr>\n",
       "      <th>Marginal Adhesion</th>\n",
       "      <td>0.543815</td>\n",
       "      <td>0.745475</td>\n",
       "      <td>0.718722</td>\n",
       "      <td>1.000000</td>\n",
       "      <td>0.665190</td>\n",
       "      <td>0.696792</td>\n",
       "      <td>0.628738</td>\n",
       "      <td>0.636409</td>\n",
       "      <td>0.447254</td>\n",
       "      <td>0.737737</td>\n",
       "    </tr>\n",
       "    <tr>\n",
       "      <th>Single Epithelial Cell Size</th>\n",
       "      <td>0.586755</td>\n",
       "      <td>0.792814</td>\n",
       "      <td>0.765073</td>\n",
       "      <td>0.665190</td>\n",
       "      <td>1.000000</td>\n",
       "      <td>0.694579</td>\n",
       "      <td>0.645090</td>\n",
       "      <td>0.710628</td>\n",
       "      <td>0.483210</td>\n",
       "      <td>0.775066</td>\n",
       "    </tr>\n",
       "    <tr>\n",
       "      <th>Bare Nuclei</th>\n",
       "      <td>0.590770</td>\n",
       "      <td>0.769543</td>\n",
       "      <td>0.752950</td>\n",
       "      <td>0.696792</td>\n",
       "      <td>0.694579</td>\n",
       "      <td>1.000000</td>\n",
       "      <td>0.678963</td>\n",
       "      <td>0.659762</td>\n",
       "      <td>0.474316</td>\n",
       "      <td>0.835444</td>\n",
       "    </tr>\n",
       "    <tr>\n",
       "      <th>Bland Chromatin</th>\n",
       "      <td>0.533848</td>\n",
       "      <td>0.720595</td>\n",
       "      <td>0.694888</td>\n",
       "      <td>0.628738</td>\n",
       "      <td>0.645090</td>\n",
       "      <td>0.678963</td>\n",
       "      <td>1.000000</td>\n",
       "      <td>0.662096</td>\n",
       "      <td>0.390600</td>\n",
       "      <td>0.744571</td>\n",
       "    </tr>\n",
       "    <tr>\n",
       "      <th>Normal Nucleoli</th>\n",
       "      <td>0.566398</td>\n",
       "      <td>0.752510</td>\n",
       "      <td>0.724410</td>\n",
       "      <td>0.636409</td>\n",
       "      <td>0.710628</td>\n",
       "      <td>0.659762</td>\n",
       "      <td>0.662096</td>\n",
       "      <td>1.000000</td>\n",
       "      <td>0.510210</td>\n",
       "      <td>0.748601</td>\n",
       "    </tr>\n",
       "    <tr>\n",
       "      <th>Mitoses</th>\n",
       "      <td>0.421208</td>\n",
       "      <td>0.512688</td>\n",
       "      <td>0.478400</td>\n",
       "      <td>0.447254</td>\n",
       "      <td>0.483210</td>\n",
       "      <td>0.474316</td>\n",
       "      <td>0.390600</td>\n",
       "      <td>0.510210</td>\n",
       "      <td>1.000000</td>\n",
       "      <td>0.527379</td>\n",
       "    </tr>\n",
       "    <tr>\n",
       "      <th>Class</th>\n",
       "      <td>0.683080</td>\n",
       "      <td>0.860299</td>\n",
       "      <td>0.843245</td>\n",
       "      <td>0.737737</td>\n",
       "      <td>0.775066</td>\n",
       "      <td>0.835444</td>\n",
       "      <td>0.744571</td>\n",
       "      <td>0.748601</td>\n",
       "      <td>0.527379</td>\n",
       "      <td>1.000000</td>\n",
       "    </tr>\n",
       "  </tbody>\n",
       "</table>\n",
       "</div>"
      ],
      "text/plain": [
       "                             Clump Thickness  Uniformity of Cell Size  \\\n",
       "Clump Thickness                     1.000000                 0.663684   \n",
       "Uniformity of Cell Size             0.663684                 1.000000   \n",
       "Uniformity of Cell Shape            0.666652                 0.894978   \n",
       "Marginal Adhesion                   0.543815                 0.745475   \n",
       "Single Epithelial Cell Size         0.586755                 0.792814   \n",
       "Bare Nuclei                         0.590770                 0.769543   \n",
       "Bland Chromatin                     0.533848                 0.720595   \n",
       "Normal Nucleoli                     0.566398                 0.752510   \n",
       "Mitoses                             0.421208                 0.512688   \n",
       "Class                               0.683080                 0.860299   \n",
       "\n",
       "                             Uniformity of Cell Shape  Marginal Adhesion  \\\n",
       "Clump Thickness                              0.666652           0.543815   \n",
       "Uniformity of Cell Size                      0.894978           0.745475   \n",
       "Uniformity of Cell Shape                     1.000000           0.718722   \n",
       "Marginal Adhesion                            0.718722           1.000000   \n",
       "Single Epithelial Cell Size                  0.765073           0.665190   \n",
       "Bare Nuclei                                  0.752950           0.696792   \n",
       "Bland Chromatin                              0.694888           0.628738   \n",
       "Normal Nucleoli                              0.724410           0.636409   \n",
       "Mitoses                                      0.478400           0.447254   \n",
       "Class                                        0.843245           0.737737   \n",
       "\n",
       "                             Single Epithelial Cell Size  Bare Nuclei  \\\n",
       "Clump Thickness                                 0.586755     0.590770   \n",
       "Uniformity of Cell Size                         0.792814     0.769543   \n",
       "Uniformity of Cell Shape                        0.765073     0.752950   \n",
       "Marginal Adhesion                               0.665190     0.696792   \n",
       "Single Epithelial Cell Size                     1.000000     0.694579   \n",
       "Bare Nuclei                                     0.694579     1.000000   \n",
       "Bland Chromatin                                 0.645090     0.678963   \n",
       "Normal Nucleoli                                 0.710628     0.659762   \n",
       "Mitoses                                         0.483210     0.474316   \n",
       "Class                                           0.775066     0.835444   \n",
       "\n",
       "                             Bland Chromatin  Normal Nucleoli   Mitoses  \\\n",
       "Clump Thickness                     0.533848         0.566398  0.421208   \n",
       "Uniformity of Cell Size             0.720595         0.752510  0.512688   \n",
       "Uniformity of Cell Shape            0.694888         0.724410  0.478400   \n",
       "Marginal Adhesion                   0.628738         0.636409  0.447254   \n",
       "Single Epithelial Cell Size         0.645090         0.710628  0.483210   \n",
       "Bare Nuclei                         0.678963         0.659762  0.474316   \n",
       "Bland Chromatin                     1.000000         0.662096  0.390600   \n",
       "Normal Nucleoli                     0.662096         1.000000  0.510210   \n",
       "Mitoses                             0.390600         0.510210  1.000000   \n",
       "Class                               0.744571         0.748601  0.527379   \n",
       "\n",
       "                                Class  \n",
       "Clump Thickness              0.683080  \n",
       "Uniformity of Cell Size      0.860299  \n",
       "Uniformity of Cell Shape     0.843245  \n",
       "Marginal Adhesion            0.737737  \n",
       "Single Epithelial Cell Size  0.775066  \n",
       "Bare Nuclei                  0.835444  \n",
       "Bland Chromatin              0.744571  \n",
       "Normal Nucleoli              0.748601  \n",
       "Mitoses                      0.527379  \n",
       "Class                        1.000000  "
      ]
     },
     "execution_count": 245,
     "metadata": {},
     "output_type": "execute_result"
    }
   ],
   "source": [
    "corr_coeff = df.corr(method = 'spearman')\n",
    "corr_coeff"
   ]
  },
  {
   "cell_type": "markdown",
   "metadata": {},
   "source": [
    "To concentrate on the strong correlations only we should filter the correlation matrix above, leaving the correlation coefficiets that are larger than the value of 0.8 corresponding to the strong correlation dependencies."
   ]
  },
  {
   "cell_type": "code",
   "execution_count": 246,
   "metadata": {},
   "outputs": [
    {
     "name": "stdout",
     "output_type": "stream",
     "text": [
      "\"Uniformity of Cell Size\" \"Uniformity of Cell Shape\" 0.8949775676224728\n",
      "\"Uniformity of Cell Size\" \"Class\" 0.8602989143736787\n",
      "\"Uniformity of Cell Shape\" \"Uniformity of Cell Size\" 0.8949775676224728\n",
      "\"Uniformity of Cell Shape\" \"Class\" 0.8432454428776874\n",
      "\"Bare Nuclei\" \"Class\" 0.8354435213280452\n",
      "\"Class\" \"Uniformity of Cell Size\" 0.8602989143736787\n",
      "\"Class\" \"Uniformity of Cell Shape\" 0.8432454428776874\n",
      "\"Class\" \"Bare Nuclei\" 0.8354435213280452\n"
     ]
    },
    {
     "data": {
      "text/plain": [
       "['Uniformity of Cell Size', 'Uniformity of Cell Shape', 'Bare Nuclei', 'Class']"
      ]
     },
     "execution_count": 246,
     "metadata": {},
     "output_type": "execute_result"
    }
   ],
   "source": [
    "corr_col_titles = []\n",
    "for i in corr_coeff:\n",
    "    for j in corr_coeff[i].index:\n",
    "        if corr_coeff[i][j] > 0.8:\n",
    "            if i != j:\n",
    "                print('\"'+i+'\"', '\"'+j+'\"', corr_coeff[i][j])\n",
    "                if i not in corr_col_titles:\n",
    "                    corr_col_titles.append(i)\n",
    "corr_col_titles"
   ]
  },
  {
   "cell_type": "markdown",
   "metadata": {},
   "source": [
    "Using the filtered columns printed above we'll show the reduced correlation matrix."
   ]
  },
  {
   "cell_type": "code",
   "execution_count": 247,
   "metadata": {},
   "outputs": [
    {
     "data": {
      "text/html": [
       "<div>\n",
       "<style scoped>\n",
       "    .dataframe tbody tr th:only-of-type {\n",
       "        vertical-align: middle;\n",
       "    }\n",
       "\n",
       "    .dataframe tbody tr th {\n",
       "        vertical-align: top;\n",
       "    }\n",
       "\n",
       "    .dataframe thead th {\n",
       "        text-align: right;\n",
       "    }\n",
       "</style>\n",
       "<table border=\"1\" class=\"dataframe\">\n",
       "  <thead>\n",
       "    <tr style=\"text-align: right;\">\n",
       "      <th></th>\n",
       "      <th>Uniformity of Cell Size</th>\n",
       "      <th>Uniformity of Cell Shape</th>\n",
       "      <th>Bare Nuclei</th>\n",
       "      <th>Class</th>\n",
       "    </tr>\n",
       "  </thead>\n",
       "  <tbody>\n",
       "    <tr>\n",
       "      <th>Uniformity of Cell Size</th>\n",
       "      <td>1.000000</td>\n",
       "      <td>0.907228</td>\n",
       "      <td>0.691709</td>\n",
       "      <td>0.820801</td>\n",
       "    </tr>\n",
       "    <tr>\n",
       "      <th>Uniformity of Cell Shape</th>\n",
       "      <td>0.907228</td>\n",
       "      <td>1.000000</td>\n",
       "      <td>0.713878</td>\n",
       "      <td>0.821891</td>\n",
       "    </tr>\n",
       "    <tr>\n",
       "      <th>Bare Nuclei</th>\n",
       "      <td>0.691709</td>\n",
       "      <td>0.713878</td>\n",
       "      <td>1.000000</td>\n",
       "      <td>0.822696</td>\n",
       "    </tr>\n",
       "    <tr>\n",
       "      <th>Class</th>\n",
       "      <td>0.820801</td>\n",
       "      <td>0.821891</td>\n",
       "      <td>0.822696</td>\n",
       "      <td>1.000000</td>\n",
       "    </tr>\n",
       "  </tbody>\n",
       "</table>\n",
       "</div>"
      ],
      "text/plain": [
       "                          Uniformity of Cell Size  Uniformity of Cell Shape  \\\n",
       "Uniformity of Cell Size                  1.000000                  0.907228   \n",
       "Uniformity of Cell Shape                 0.907228                  1.000000   \n",
       "Bare Nuclei                              0.691709                  0.713878   \n",
       "Class                                    0.820801                  0.821891   \n",
       "\n",
       "                          Bare Nuclei     Class  \n",
       "Uniformity of Cell Size      0.691709  0.820801  \n",
       "Uniformity of Cell Shape     0.713878  0.821891  \n",
       "Bare Nuclei                  1.000000  0.822696  \n",
       "Class                        0.822696  1.000000  "
      ]
     },
     "execution_count": 247,
     "metadata": {},
     "output_type": "execute_result"
    }
   ],
   "source": [
    "corr_coeff=df[corr_col_titles].corr()\n",
    "corr_coeff"
   ]
  },
  {
   "cell_type": "markdown",
   "metadata": {},
   "source": [
    "The values of the correlation matrix presented above are more convenient to be illustrated using the corresponding heat map."
   ]
  },
  {
   "cell_type": "code",
   "execution_count": 248,
   "metadata": {},
   "outputs": [
    {
     "data": {
      "text/plain": [
       "<matplotlib.axes._subplots.AxesSubplot at 0xa64e8f0>"
      ]
     },
     "execution_count": 248,
     "metadata": {},
     "output_type": "execute_result"
    },
    {
     "data": {
      "image/png": "[encoded data removed]",
      "text/plain": [
       "<Figure size 360x360 with 2 Axes>"
      ]
     },
     "metadata": {
      "needs_background": "light"
     },
     "output_type": "display_data"
    }
   ],
   "source": [
    "plt.figure(figsize = (5, 5))\n",
    "sb.heatmap(corr_coeff, annot = True, fmt='.2f')"
   ]
  },
  {
   "cell_type": "markdown",
   "metadata": {},
   "source": [
    "Based on the correlation coefficient values presented either in matrix form or as a heat map we can conclude that the classification of cancer is highly depends (with the correlation value of 0.82) on the following features: \"Uniformity of Cell Size\", \"Uniformity of Cell Shape\", \"Bare Nuclei\".\n",
    "\n",
    "At first we demonstrate the plots of regression line."
   ]
  },
  {
   "cell_type": "code",
   "execution_count": 249,
   "metadata": {},
   "outputs": [
    {
     "data": {
      "image/png": "[encoded data removed]",
      "text/plain": [
       "<Figure size 360x360 with 1 Axes>"
      ]
     },
     "metadata": {
      "needs_background": "light"
     },
     "output_type": "display_data"
    },
    {
     "data": {
      "image/png": "[encoded data removed]",
      "text/plain": [
       "<Figure size 360x360 with 1 Axes>"
      ]
     },
     "metadata": {
      "needs_background": "light"
     },
     "output_type": "display_data"
    },
    {
     "data": {
      "image/png": "[encoded data removed]",
      "text/plain": [
       "<Figure size 360x360 with 1 Axes>"
      ]
     },
     "metadata": {
      "needs_background": "light"
     },
     "output_type": "display_data"
    }
   ],
   "source": [
    "for i in corr_col_titles:\n",
    "    if i != 'Class':\n",
    "        plt.figure(figsize = (5, 5))\n",
    "        sb.regplot(x = i, y = 'Class', data = df)"
   ]
  },
  {
   "cell_type": "markdown",
   "metadata": {},
   "source": [
    "Now we show the box plots."
   ]
  },
  {
   "cell_type": "code",
   "execution_count": 250,
   "metadata": {},
   "outputs": [
    {
     "data": {
      "image/png": "[encoded data removed]",
      "text/plain": [
       "<Figure size 360x360 with 1 Axes>"
      ]
     },
     "metadata": {
      "needs_background": "light"
     },
     "output_type": "display_data"
    },
    {
     "data": {
      "image/png": "[encoded data removed]",
      "text/plain": [
       "<Figure size 360x360 with 1 Axes>"
      ]
     },
     "metadata": {
      "needs_background": "light"
     },
     "output_type": "display_data"
    },
    {
     "data": {
      "image/png": "[encoded data removed]",
      "text/plain": [
       "<Figure size 360x360 with 1 Axes>"
      ]
     },
     "metadata": {
      "needs_background": "light"
     },
     "output_type": "display_data"
    }
   ],
   "source": [
    "for i in corr_col_titles:\n",
    "    if i != 'Class':\n",
    "        plt.figure(figsize = (5, 5))\n",
    "        sb.boxplot(x = i, y = 'Class', data = df)"
   ]
  },
  {
   "cell_type": "markdown",
   "metadata": {},
   "source": [
    "Proper regression analysis should include the p-value for Spearman correlation coefficient that indicates the statistical significance of the analysed correlations. The correspondins p-values, presented below are extremely small. So we can conclude that correlations between \"Class\" and \"Uniformity of Cell Size\", \"Uniformity of Cell Shape\" and \"Bare Nuclei\" features are trustworthy."
   ]
  },
  {
   "cell_type": "code",
   "execution_count": 251,
   "metadata": {},
   "outputs": [
    {
     "name": "stdout",
     "output_type": "stream",
     "text": [
      "Spearman coefficient for \" Uniformity of Cell Size - Class\" correlation:  0.8602989143736788 \n",
      "and the corresponding p-value:  1.922120510515003e-201\n",
      "Spearman coefficient for \" Uniformity of Cell Shape - Class\" correlation:  0.8432454428776875 \n",
      "and the corresponding p-value:  9.173472841657559e-186\n",
      "Spearman coefficient for \" Bare Nuclei - Class\" correlation:  0.8354435213280451 \n",
      "and the corresponding p-value:  3.3272611180022025e-179\n"
     ]
    }
   ],
   "source": [
    "for i in corr_col_titles:\n",
    "    if i != 'Class':\n",
    "        spearman_coeff, p_value = stats.spearmanr(df[i], df['Class'])\n",
    "        print('Spearman coefficient for \"', i, '- Class\" correlation: ', spearman_coeff,\n",
    "              '\\nand the corresponding p-value: ', p_value)"
   ]
  },
  {
   "cell_type": "code",
   "execution_count": 252,
   "metadata": {},
   "outputs": [
    {
     "data": {
      "text/html": [
       "<div>\n",
       "<style scoped>\n",
       "    .dataframe tbody tr th:only-of-type {\n",
       "        vertical-align: middle;\n",
       "    }\n",
       "\n",
       "    .dataframe tbody tr th {\n",
       "        vertical-align: top;\n",
       "    }\n",
       "\n",
       "    .dataframe thead th {\n",
       "        text-align: right;\n",
       "    }\n",
       "</style>\n",
       "<table border=\"1\" class=\"dataframe\">\n",
       "  <thead>\n",
       "    <tr style=\"text-align: right;\">\n",
       "      <th></th>\n",
       "      <th>value_counts</th>\n",
       "    </tr>\n",
       "    <tr>\n",
       "      <th>Uniformity of Cell Size</th>\n",
       "      <th></th>\n",
       "    </tr>\n",
       "  </thead>\n",
       "  <tbody>\n",
       "    <tr>\n",
       "      <th>1</th>\n",
       "      <td>373</td>\n",
       "    </tr>\n",
       "    <tr>\n",
       "      <th>2</th>\n",
       "      <td>45</td>\n",
       "    </tr>\n",
       "    <tr>\n",
       "      <th>3</th>\n",
       "      <td>52</td>\n",
       "    </tr>\n",
       "    <tr>\n",
       "      <th>4</th>\n",
       "      <td>38</td>\n",
       "    </tr>\n",
       "    <tr>\n",
       "      <th>5</th>\n",
       "      <td>30</td>\n",
       "    </tr>\n",
       "    <tr>\n",
       "      <th>6</th>\n",
       "      <td>25</td>\n",
       "    </tr>\n",
       "    <tr>\n",
       "      <th>7</th>\n",
       "      <td>19</td>\n",
       "    </tr>\n",
       "    <tr>\n",
       "      <th>8</th>\n",
       "      <td>28</td>\n",
       "    </tr>\n",
       "    <tr>\n",
       "      <th>9</th>\n",
       "      <td>6</td>\n",
       "    </tr>\n",
       "    <tr>\n",
       "      <th>10</th>\n",
       "      <td>67</td>\n",
       "    </tr>\n",
       "  </tbody>\n",
       "</table>\n",
       "</div>"
      ],
      "text/plain": [
       "                         value_counts\n",
       "Uniformity of Cell Size              \n",
       "1                                 373\n",
       "2                                  45\n",
       "3                                  52\n",
       "4                                  38\n",
       "5                                  30\n",
       "6                                  25\n",
       "7                                  19\n",
       "8                                  28\n",
       "9                                   6\n",
       "10                                 67"
      ]
     },
     "execution_count": 252,
     "metadata": {},
     "output_type": "execute_result"
    }
   ],
   "source": [
    "df['Uniformity of Cell Size'].value_counts().sort_index().to_frame()\n",
    "uniformity_of_cell_size_counts = df['Uniformity of Cell Size'].value_counts().sort_index().to_frame()\n",
    "uniformity_of_cell_size_counts.rename(columns = {'Uniformity of Cell Size': 'value_counts'}, inplace = True)\n",
    "uniformity_of_cell_size_counts.index.name = 'Uniformity of Cell Size'\n",
    "uniformity_of_cell_size_counts"
   ]
  },
  {
   "cell_type": "code",
   "execution_count": 260,
   "metadata": {},
   "outputs": [
    {
     "name": "stdout",
     "output_type": "stream",
     "text": [
      "ANOVA results: F = 189.73798301764003 , P = 1.284782508222404e-170\n"
     ]
    }
   ],
   "source": [
    "grouped_test = df[['Uniformity of Cell Size', 'Class']].groupby('Uniformity of Cell Size')\n",
    "f_coeff, p_value = stats.f_oneway(grouped_test.get_group(1)['Class'], \n",
    "                                  grouped_test.get_group(2)['Class'], \n",
    "                                  grouped_test.get_group(3)['Class'],\n",
    "                                  grouped_test.get_group(4)['Class'], \n",
    "                                  grouped_test.get_group(5)['Class'], \n",
    "                                  grouped_test.get_group(6)['Class'],\n",
    "                                  grouped_test.get_group(7)['Class'], \n",
    "                                  grouped_test.get_group(8)['Class'], \n",
    "                                  grouped_test.get_group(9)['Class'],\n",
    "                                  grouped_test.get_group(9)['Class'])\n",
    " \n",
    "print( \"ANOVA results: F =\", f_coeff, \", P =\", p_value)"
   ]
  },
  {
   "cell_type": "markdown",
   "metadata": {},
   "source": [
    "Now we'll perform the feature selection procedure based on"
   ]
  },
  {
   "cell_type": "code",
   "execution_count": 254,
   "metadata": {},
   "outputs": [],
   "source": [
    "y = df['Class']\n",
    "X = df.drop('Class', axis = 1)"
   ]
  },
  {
   "cell_type": "code",
   "execution_count": 232,
   "metadata": {},
   "outputs": [],
   "source": [
    "from sklearn.model_selection import train_test_split\n",
    "X_train, X_test, y_train, y_test = train_test_split(X, y, test_size = 0.3)"
   ]
  },
  {
   "cell_type": "code",
   "execution_count": 233,
   "metadata": {},
   "outputs": [],
   "source": [
    "from sklearn.preprocessing import StandardScaler\n",
    "sc = StandardScaler()\n",
    "X_train = sc.fit_transform(X_train)\n",
    "X_test = sc.transform(X_test)"
   ]
  },
  {
   "cell_type": "code",
   "execution_count": 234,
   "metadata": {},
   "outputs": [
    {
     "data": {
      "text/plain": [
       "RandomForestRegressor(bootstrap=True, criterion='mse', max_depth=2,\n",
       "                      max_features='auto', max_leaf_nodes=None,\n",
       "                      min_impurity_decrease=0.0, min_impurity_split=None,\n",
       "                      min_samples_leaf=1, min_samples_split=2,\n",
       "                      min_weight_fraction_leaf=0.0, n_estimators=100,\n",
       "                      n_jobs=None, oob_score=False, random_state=0, verbose=0,\n",
       "                      warm_start=False)"
      ]
     },
     "execution_count": 234,
     "metadata": {},
     "output_type": "execute_result"
    }
   ],
   "source": [
    "from sklearn.ensemble import RandomForestRegressor\n",
    "rf = RandomForestRegressor(max_depth = 2, random_state = 0, n_estimators = 100)\n",
    "rf.fit(X_train, y_train)"
   ]
  },
  {
   "cell_type": "code",
   "execution_count": 235,
   "metadata": {},
   "outputs": [
    {
     "data": {
      "text/plain": [
       "[(0.5538063479233467, 'Uniformity of Cell Size'),\n",
       " (0.27131573639396545, 'Uniformity of Cell Shape'),\n",
       " (0.11158981204203698, 'Bare Nuclei'),\n",
       " (0.028036206482631238, 'Bland Chromatin'),\n",
       " (0.018914572567800603, 'Clump Thickness'),\n",
       " (0.010018909895397693, 'Normal Nucleoli'),\n",
       " (0.0025444441614742436, 'Mitoses'),\n",
       " (0.002189418961928956, 'Marginal Adhesion'),\n",
       " (0.0015845515714182142, 'Single Epithelial Cell Size')]"
      ]
     },
     "execution_count": 235,
     "metadata": {},
     "output_type": "execute_result"
    }
   ],
   "source": [
    "#df = df.drop('Class', axis = 1)\n",
    "importances = list(zip(rf.feature_importances_, df.columns))\n",
    "importances.sort(reverse = True)\n",
    "importances"
   ]
  },
  {
   "cell_type": "code",
   "execution_count": null,
   "metadata": {},
   "outputs": [],
   "source": []
  }
 ],
 "metadata": {
  "kernelspec": {
   "display_name": "Python 3",
   "language": "python",
   "name": "python3"
  },
  "language_info": {
   "codemirror_mode": {
    "name": "ipython",
    "version": 3
   },
   "file_extension": ".py",
   "mimetype": "text/x-python",
   "name": "python",
   "nbconvert_exporter": "python",
   "pygments_lexer": "ipython3",
   "version": "3.7.3"
  }
 },
 "nbformat": 4,
 "nbformat_minor": 2
}
